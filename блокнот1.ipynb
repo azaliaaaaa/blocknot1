{
  "cells": [
    {
      "cell_type": "markdown",
      "metadata": {
        "id": "UTKPorw0q5aN"
      },
      "source": [
        "## Задачи\n",
        "1. Прочитайте файл **student-mat.csv** и сохраните его в переменной **df**. Выведите на экран первые 10 строк таблицы, изучите данныи и описание к таблице. Создайте переменную **shape_table** и сохраните в ней размеры таблицы **student-mat.csv**. Напечатайте на экране размер таблицы в таком виде:\n",
        "Размер таблицы: ...\n",
        "2. Сколько наблюдений в наборе данных? В переменной **shape_table** хранится кортеж. Его первый элемент — количество наблюдений, который надо сохранить в переменной **observations_table** (не забывайте, что индексация элементов идёт с 0). Напечатайте на экране ответ в таком виде:\n",
        "Количество наблюдений: ...\n",
        "3. Найдите в информации, которую вернул метод **info()**, число наблюдений. Вручную присвойте это число как значение переменной **observations_info_table**.\n",
        "4. Поскольку в ходе работы аналитик объявляет разные переменные и сохраняет в них добытую разными способами информацию, запутаться очень легко. Именно поэтому необходимо проверять себя и текущие результаты. Сравните полученные результаты в переменных observations_info_table и observations_table. Если значения переменных совпадают, то выведите количество наблюдений и сообщение:\n",
        "'Решение верно, количество наблюдений равно', observations_table   \n",
        "Если значения переменных не совпадают, то выведите сообщение:\n",
        "'Решение неверно, проверьте ещё раз!'\n"
      ]
    },
    {
      "cell_type": "code",
      "source": [
        "import pandas as pd\n",
        "import re"
      ],
      "metadata": {
        "id": "fO8H9BLuDDMf"
      },
      "execution_count": null,
      "outputs": []
    },
    {
      "cell_type": "code",
      "source": [
        "print('Задача 1')\n",
        "df = pd.read_csv(\"student-mat.csv\")\n",
        "df.head(10)\n",
        "shape_table = df.shape\n",
        "print('Размер таблицы: ', shape_table)"
      ],
      "metadata": {
        "id": "clnoTXVrC9Lw"
      },
      "execution_count": null,
      "outputs": []
    },
    {
      "cell_type": "code",
      "source": [
        "print('Задача 2')\n",
        "observations_table = shape_table[0]\n",
        "print('Количество наблюдений: ', observations_table)"
      ],
      "metadata": {
        "colab": {
          "base_uri": "https://localhost:8080/"
        },
        "id": "8CrsXdsKDGVb",
        "outputId": "2762117f-0370-40f5-a587-979ea3a738b7"
      },
      "execution_count": null,
      "outputs": [
        {
          "output_type": "stream",
          "name": "stdout",
          "text": [
            "Задача 2\n",
            "Количество наблюдений:  395\n"
          ]
        }
      ]
    },
    {
      "cell_type": "code",
      "source": [
        "print('Задача 3')\n",
        "info_output = df.info\n",
        "info_str = str(info_output)\n",
        "\n",
        "match = re.search(r\"(\\d+)\\s+rows\", info_str)\n",
        "if match:\n",
        "    observations_info_table = int(match.group(1))\n",
        "    print(f\"Количество наблюдений: {observations_info_table}\")"
      ],
      "metadata": {
        "colab": {
          "base_uri": "https://localhost:8080/"
        },
        "id": "ROXsg974DLpb",
        "outputId": "95852ed5-6674-4f65-b284-e8319ea14432"
      },
      "execution_count": null,
      "outputs": [
        {
          "output_type": "stream",
          "name": "stdout",
          "text": [
            "Задача 3\n",
            "Количество наблюдений: 395\n"
          ]
        }
      ]
    },
    {
      "cell_type": "code",
      "source": [
        "print('Задача 4')\n",
        "if observations_info_table == observations_table:\n",
        "  print('Решение верно, количество наблюдений равно', observations_table)\n",
        "else:\n",
        "  print( 'Решение неверно, проверьте ещё раз!')\n"
      ],
      "metadata": {
        "colab": {
          "base_uri": "https://localhost:8080/"
        },
        "id": "G3lwVtEmJAcM",
        "outputId": "95ffc0fc-7a93-4123-9a99-000b6663e423"
      },
      "execution_count": null,
      "outputs": [
        {
          "output_type": "stream",
          "name": "stdout",
          "text": [
            "Задача 4\n",
            "Решение верно, количество наблюдений равно 395\n"
          ]
        }
      ]
    },
    {
      "cell_type": "markdown",
      "metadata": {
        "id": "pltGhi_-q5aR"
      },
      "source": [
        "## Задачи\n",
        "1. Получите таблицу, состоящую из столбцов Medu и Fedu. Сохраните её в переменной parents. Выведите на экран превые 20 строк.\n",
        "2. Посчитайте число матерей студентов с высшим образованием. Для этого лучше всего использовать логическое условие parents ['Medu'] == 4. Сохраните результат в переменной mother_hight. Напечатайте ответ на экране в таком виде:\n",
        "Число матерей с высшим образованием равно ...\n",
        "\n",
        "3. Теперь посчитайте число отцов студентов с высшим образованием. Допишите в код подсчёт, похожий на предыдущий, только с логическим условием parents ['Fedu'] == 4.. Сохраните результат в переменной father_hight. Напечатайте ответ на экране в таком виде:\n",
        "Число отцов с высшим образованием равно ...\n",
        "4. Напишите условную конструкцию, которая сравнивает полученные значения и выводит информацию о победителе в этом бою!))"
      ]
    },
    {
      "cell_type": "code",
      "source": [
        "parents= df.loc[:,['Medu','Fedu']]\n",
        "print(parents.head(20))"
      ],
      "metadata": {
        "colab": {
          "base_uri": "https://localhost:8080/"
        },
        "id": "ZmD0XniDJvF8",
        "outputId": "8d69d85c-20a4-4f6e-9587-d908b37d2a1d"
      },
      "execution_count": null,
      "outputs": [
        {
          "output_type": "stream",
          "name": "stdout",
          "text": [
            "    Medu  Fedu\n",
            "0      4     4\n",
            "1      1     1\n",
            "2      1     1\n",
            "3      4     2\n",
            "4      3     3\n",
            "5      4     3\n",
            "6      2     2\n",
            "7      4     4\n",
            "8      3     2\n",
            "9      3     4\n",
            "10     4     4\n",
            "11     2     1\n",
            "12     4     4\n",
            "13     4     3\n",
            "14     2     2\n",
            "15     4     4\n",
            "16     4     4\n",
            "17     3     3\n",
            "18     3     2\n",
            "19     4     3\n"
          ]
        }
      ]
    },
    {
      "cell_type": "code",
      "source": [
        "mother_hight =0\n",
        "for i in parents['Medu']:\n",
        "  if i == 4:\n",
        "    mother_hight += 1\n",
        "print('Число матерей с высшим образованием равно', mother_hight)"
      ],
      "metadata": {
        "colab": {
          "base_uri": "https://localhost:8080/"
        },
        "id": "pE7HLvtWKwnh",
        "outputId": "68458748-215d-411d-eee2-a3a51ab4ba3d"
      },
      "execution_count": 72,
      "outputs": [
        {
          "output_type": "stream",
          "name": "stdout",
          "text": [
            "Число матерей с высшим образованием равно 131\n"
          ]
        }
      ]
    },
    {
      "cell_type": "code",
      "source": [
        "father_hight =0\n",
        "for i in parents['Fedu']:\n",
        "  if i == 4:\n",
        "    father_hight += 1\n",
        "print('Число отцов с высшим образованием равно', father_hight)"
      ],
      "metadata": {
        "colab": {
          "base_uri": "https://localhost:8080/"
        },
        "id": "wraZYm9wLe6q",
        "outputId": "44244317-270d-4e52-aed6-9fe1febf67b6"
      },
      "execution_count": 71,
      "outputs": [
        {
          "output_type": "stream",
          "name": "stdout",
          "text": [
            "Число отцов с высшим образованием равно 96\n"
          ]
        }
      ]
    },
    {
      "cell_type": "code",
      "source": [
        "if mother_hight > father_hight:\n",
        "  print('Победили мамочки!')\n",
        "elif mother_hight < father_hight:\n",
        "  print('Победили папы!')\n",
        "else:\n",
        "  print('Никто не победил')"
      ],
      "metadata": {
        "colab": {
          "base_uri": "https://localhost:8080/"
        },
        "id": "hU0SiNDSLw_u",
        "outputId": "cef45a2e-baee-40c4-d445-3d9ed30e3a8b"
      },
      "execution_count": null,
      "outputs": [
        {
          "output_type": "stream",
          "name": "stdout",
          "text": [
            "Победили мамочки!\n"
          ]
        }
      ]
    },
    {
      "cell_type": "markdown",
      "metadata": {
        "id": "ViVJKIQNq5aa"
      },
      "source": [
        "## Задачи\n",
        "1. Теперь по аналогии создайте Series, где хранятся данные только о выживаемости мужчин. Назовите его men_life и сохраните в нем данные столбца Survived.\n",
        "2. Обратитесь к созданной переменной для подсчета выживших мужчин. Сохраните результат в переменной quantity_men и напечатайте на экране в виде **Количество выживших женщин равно...**.\n",
        "3. Для обои полов посчитайте долю выживших в процентах. Разделите количество выживших на общее количество мужчин и женщин. Выведите значения новых переменных в процентах с точностью до одного знака после запятой."
      ]
    },
    {
      "cell_type": "code",
      "execution_count": 99,
      "metadata": {
        "id": "nAoDZ5smq5ab",
        "colab": {
          "base_uri": "https://localhost:8080/"
        },
        "outputId": "fdf44699-0caf-4bc8-c2f7-2d0690022318"
      },
      "outputs": [
        {
          "output_type": "stream",
          "name": "stdout",
          "text": [
            "Количество выживших мужчин равно 109\n",
            "Доля выживших составила 0.3838383838383838 %\n"
          ]
        }
      ],
      "source": [
        "df = pd.read_csv('Titanic.csv')\n",
        "quantity_men = df.loc[(df['Sex'] == 'male') & (df['Survived'] == 1)]\n",
        "quantity_women = df.loc[(df['Sex'] == 'female') & (df['Survived'] == 1)]\n",
        "print('Количество выживших мужчин равно', quantity_men.shape[0])\n",
        "print('Доля выживших составила',(quantity_men.shape[0]+quantity_women.shape[0])/df.shape[0], '%')"
      ]
    }
  ],
  "metadata": {
    "kernelspec": {
      "display_name": "Python 3 (ipykernel)",
      "language": "python",
      "name": "python3"
    },
    "language_info": {
      "codemirror_mode": {
        "name": "ipython",
        "version": 3
      },
      "file_extension": ".py",
      "mimetype": "text/x-python",
      "name": "python",
      "nbconvert_exporter": "python",
      "pygments_lexer": "ipython3",
      "version": "3.9.12"
    },
    "colab": {
      "provenance": []
    }
  },
  "nbformat": 4,
  "nbformat_minor": 0
}